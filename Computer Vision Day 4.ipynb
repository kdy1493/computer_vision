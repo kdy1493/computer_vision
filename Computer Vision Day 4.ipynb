{
 "cells": [
  {
   "cell_type": "code",
   "execution_count": 3,
   "id": "04b5ab7d",
   "metadata": {},
   "outputs": [],
   "source": [
    "import cv2\n",
    "import numpy as np"
   ]
  },
  {
   "attachments": {},
   "cell_type": "markdown",
   "id": "8cbb1a87",
   "metadata": {},
   "source": [
    "# 에지 검출과 응용\n",
    "- 에지는 한쪽방향으로 픽셀값이 급격히 바뀌는 부분임\n",
    "- 어두운 영역에서 갑자기 밝아지거나 이의 반대의 경우 에지라고 함\n",
    "- 경계 , 객체의 윤곽을 알아낼수있는 유용한 방법\n",
    "- 에지를 찾으려면 픽셀값의 변화율이 큰 픽셀을 택해야함\n",
    "- 그래서 미분 사용 \n",
    "\n"
   ]
  },
  {
   "attachments": {},
   "cell_type": "markdown",
   "id": "34f93de1",
   "metadata": {},
   "source": [
    "- 영상에서 미분 시 고려할점 \n",
    "    1. 영상은 2차원 평면에서 정의되어 있는 함수임\n",
    "    2. 영상은 정수 단위 좌표에 픽셀이 나열되어 있는 이산함수임\n",
    "    - 뭐 여튼 x y 축 둘다의 미분값을 봐야한다  "
   ]
  },
  {
   "cell_type": "markdown",
   "id": "a0480f89",
   "metadata": {},
   "source": [
    "## 편미분"
   ]
  },
  {
   "cell_type": "code",
   "execution_count": null,
   "id": "d9c26262",
   "metadata": {},
   "outputs": [],
   "source": [
    "# x 축 미분 , y 축 미분 보기 \n",
    "src = cv2.imread('./data/lenna.bmp',cv2.IMREAD_GRAYSCALE)  \n",
    "\n",
    "Mx = np.array([[-1, 0,1],\n",
    "                [-2, 0,2],\n",
    "                [-1,0,1]], dtype =np.float32)\n",
    "\n",
    "My = np.array([[-1,-2, -1],\n",
    "                [0,0,0],\n",
    "                [1,2,1]], dtype=np.float32)\n",
    "\n",
    "\n",
    "dx = cv2.filter2D(src, -1 ,Mx, delta=128) \n",
    "dy = cv2.filter2D(src, -1, My, delta=128\n",
    ") \n",
    "\n",
    "\n",
    "cv2.imshow('src', src) \n",
    "cv2.imshow('dx', dx) \n",
    "cv2.imshow('dy', dy)  \n",
    "\n",
    "cv2.waitKey()\n",
    "cv2.destroyAllWindows()\n"
   ]
  },
  {
   "attachments": {},
   "cell_type": "markdown",
   "id": "627a8203",
   "metadata": {},
   "source": [
    "## 그래디언트 \n",
    "    - 2차원 함수에서 x y 축 미분을 한꺼번에 벡터로 표현한것4    \n",
    "    - 벡터의 뱡향은 변화 정도가 가장 큰 방향을 나타냄( x or y) \n",
    "    - 벡터의 크기는 변화율의 세기를 나타내는 척도임 \n",
    "    - 2차원 영상에서 에지를 찾는 기본은 그래디언트 크기가 특정 값보다 큰 위치를 찾는거임"
   ]
  },
  {
   "attachments": {},
   "cell_type": "markdown",
   "id": "f88451d1",
   "metadata": {},
   "source": [
    "## 마스크 기반 에지 검출 - 소벨 마스크\n",
    "    - cv2.Sobel() : 이 안에 3x3 마스크가 잇음  \n"
   ]
  },
  {
   "cell_type": "code",
   "execution_count": null,
   "id": "57cb9325",
   "metadata": {},
   "outputs": [],
   "source": [
    "src = cv2.imread('./data/lenna.bmp', cv2.IMREAD_GRAYSCALE) \n",
    "\n",
    "dx = cv2.Sobel(src, cv2.CV_32FC1, 1,0) # x축 미분\n",
    "dy = cv2.Sobel(src, cv2.CV_32FC1, 0,1) # y축 미분 \n",
    "\n",
    "# cv2.Sobel 경우 cv2.filter2D() 랑 마스크 연산까진 같은데 자료형변환은 안되어있음\n",
    "# 포화연산도 안되어었음 (음수값이 들어있다) \n",
    "\n",
    "# x축 미분 + y축 미분 = 그래디언트, magnitude함수가 그래디언트의 크기를 구해줌 \n",
    "fmag= cv2.magnitude(dx, dy) \n",
    "# 포화연산 + 자료형 변환\n",
    "mag = np.clip(fmag, 0, 255).astype(np.uint8)\n",
    "\n",
    "# 영상 이진화 \n",
    "ret, dst = cv2.threshold(mag, 160, 255, cv2.THRESH_BINARY)\n",
    "\n",
    "cv2.imshow('mag',mag)\n",
    "cv2.imshow('src', src)\n",
    "cv2.imshow('dst', dst)  \n",
    "cv2.waitKey()\n",
    "cv2.destroyAllWindows()"
   ]
  },
  {
   "attachments": {},
   "cell_type": "markdown",
   "id": "15f98fd4",
   "metadata": {},
   "source": [
    "## 캐니 에지 검출기\n",
    "    * 소벨 에지 검출 방법의 단점을 해결\n",
    "    * 검출기의 조건!!\n",
    "        - 정확한 검출 : 정확하게 에지만 검출해야함\n",
    "        - 정확한 위치: 실제에지의 중심을 찾아야함\n",
    "        - 단일 에지: 하나의 에지는 하나의 점으로 표현되어야함"
   ]
  },
  {
   "cell_type": "code",
   "execution_count": 8,
   "id": "1a121e96",
   "metadata": {},
   "outputs": [],
   "source": [
    "src =cv2.imread('./data/lenna.bmp', cv2.IMREAD_GRAYSCALE) \n",
    "\n",
    "# 캐니 에지 \n",
    "dst = cv2.Canny(src , 80, 160) # low : high = (1:2 or 1:3) 이 제일 좋음\n",
    "\n",
    "cv2.imshow('src', src) \n",
    "cv2.imshow('dst', dst) \n",
    "cv2.waitKey()\n",
    "cv2.destroyAllWindows()"
   ]
  },
  {
   "attachments": {},
   "cell_type": "markdown",
   "id": "31bcb177",
   "metadata": {},
   "source": [
    "## 허프 변환 직선 검출\n",
    "    - 에지 중에서도 직선만을 찾기 위한 기법\n",
    "    - 에지를 찾아내고 , 에지 픽셀들이 일직선상에 배열되어있는지 확인\n",
    "    - 2차원 xy 좌표에서 직선의 방정식을 파마리터 공간으로 변환하여 직선을 찾는 알고리즘 "
   ]
  },
  {
   "cell_type": "code",
   "execution_count": 1,
   "id": "4c48be78",
   "metadata": {},
   "outputs": [],
   "source": [
    "import math"
   ]
  },
  {
   "cell_type": "code",
   "execution_count": 4,
   "id": "27fbb712",
   "metadata": {},
   "outputs": [],
   "source": [
    "src = cv2.imread('./data/building.jpg', cv2.IMREAD_GRAYSCALE)\n",
    "\n",
    "# 캐니 먼저 \n",
    "edge = cv2.Canny(src, 100, 200) \n",
    "\n",
    "# 허프변환 직선 검출\n",
    "rho= 1 # 숫자가 작을수로 직선이 더 정밀하게 검출됨 근데 연산시간이 걸림\n",
    "theta = math.pi/180 \n",
    "threshold = 160 # 축적 배열의 숫자가 높다는 것은 직선을 이루는 점들이 많다는 뜻\n",
    "                # 얼마나 큰 값을 직선으로 판단할지는 threshold 에 달려있음\n",
    "\n",
    "minLineLength =50  # 검출할 선분의 최소길이 \n",
    "maxLineGap = 5 # 직선으로 간주할 에지 점 최대간격\n",
    "\n",
    "lines = cv2.HoughLinesP(edge, rho , theta, threshold, \n",
    "                        minLineLength=minLineLength, maxLineGap= maxLineGap)\n",
    "\n",
    "# 직선을 그릴 도화지 (3차원 도화지) \n",
    "dst = cv2.cvtColor(edge, cv2.COLOR_GRAY2BGR)\n",
    "\n",
    "if lines is not None : \n",
    "    for i in range(len(lines)) : \n",
    "        line =lines[i][0]\n",
    "        pt1 = line[0], line[1]\n",
    "        pt2 = line[2], line[3]\n",
    "        cv2.line(dst, pt1, pt2, (0,0,255), 2, cv2.LINE_AA) \n",
    "        \n",
    "\n",
    "cv2.imshow('dst', dst) \n",
    "cv2.imshow('edge', edge)\n",
    "cv2.imshow('src', src) \n",
    "cv2.waitKey()\n",
    "cv2.destroyAllWindows()"
   ]
  }
 ],
 "metadata": {
  "kernelspec": {
   "display_name": "Python 3",
   "language": "python",
   "name": "python3"
  },
  "language_info": {
   "codemirror_mode": {
    "name": "ipython",
    "version": 3
   },
   "file_extension": ".py",
   "mimetype": "text/x-python",
   "name": "python",
   "nbconvert_exporter": "python",
   "pygments_lexer": "ipython3",
   "version": "3.11.0 (main, Oct 24 2022, 18:26:48) [MSC v.1933 64 bit (AMD64)]"
  },
  "vscode": {
   "interpreter": {
    "hash": "c261aea317cc0286b3b3261fbba9abdec21eaa57589985bb7a274bf54d6cc0a7"
   }
  }
 },
 "nbformat": 4,
 "nbformat_minor": 5
}
