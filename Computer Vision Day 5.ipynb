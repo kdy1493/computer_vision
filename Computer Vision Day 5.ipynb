{
 "cells": [
  {
   "cell_type": "code",
   "execution_count": 1,
   "id": "beaade90",
   "metadata": {},
   "outputs": [],
   "source": [
    "import cv2\n",
    "import numpy as np"
   ]
  },
  {
   "cell_type": "markdown",
   "id": "2b39873d",
   "metadata": {},
   "source": [
    "# 컬러 영상 다루기"
   ]
  },
  {
   "cell_type": "markdown",
   "id": "6d80354e",
   "metadata": {},
   "source": [
    "## 컬러 영상의 픽셀값 참조"
   ]
  },
  {
   "cell_type": "code",
   "execution_count": 8,
   "id": "5ee9ed27",
   "metadata": {},
   "outputs": [
    {
     "data": {
      "text/plain": [
       "(356, 493, 3)"
      ]
     },
     "execution_count": 8,
     "metadata": {},
     "output_type": "execute_result"
    }
   ],
   "source": [
    "src = cv2.imread('./data/butterfly.jpg')\n",
    "src.shape\n"
   ]
  },
  {
   "cell_type": "code",
   "execution_count": 11,
   "id": "ea74aa05",
   "metadata": {},
   "outputs": [],
   "source": [
    "# src 의 좌상단 좌표 값\n",
    "src[0,0] # >>array([47, 88, 50], dtype=uint8)\n",
    "\n",
    "# 각 채널의 좌 상단 좌표값 \n",
    "b = src[0,0,0] # >> 47\n",
    "g = src[0,0,1] # >> 88\n",
    "r = src[0,0,2] # >> 50\n"
   ]
  },
  {
   "cell_type": "code",
   "execution_count": null,
   "id": "fe6bbca9",
   "metadata": {},
   "outputs": [],
   "source": [
    "# matplotlib 의 backend를 qt로 사용하면 창으로 뜸 ( 픽셀의 값과 좌표를 잘 알려줌 )\n",
    "import matplotlib.pyplot as plt \n",
    "\n"
   ]
  },
  {
   "cell_type": "markdown",
   "id": "6d1c6d84",
   "metadata": {},
   "source": [
    "## 컬러 영상의 픽셀값 반전"
   ]
  },
  {
   "cell_type": "code",
   "execution_count": 14,
   "id": "af10b444",
   "metadata": {},
   "outputs": [],
   "source": [
    "src = cv2.imread('./data/butterfly.jpg')\n",
    "\n",
    "# np 브로드캐스팅으로 한번에 반전 시키기\n",
    "dst = 255 -src\n",
    "\n",
    "# 출력 \n",
    "cv2.imshow('dst', dst) \n",
    "cv2.imshow('src', src) \n",
    "cv2.waitKey()\n",
    "cv2.destroyAllWindows()"
   ]
  },
  {
   "attachments": {},
   "cell_type": "markdown",
   "id": "efa88e57",
   "metadata": {},
   "source": [
    "## 색공간 변환"
   ]
  },
  {
   "cell_type": "code",
   "execution_count": 15,
   "id": "e4373ed4",
   "metadata": {},
   "outputs": [],
   "source": [
    "dst = cv2.cvtColor(src, cv2.COLOR_BGR2GRAY)\n",
    "\n",
    "\n",
    "# 출력 \n",
    "cv2.imshow('dst', dst) \n",
    "cv2.imshow('src', src) \n",
    "cv2.waitKey()\n",
    "cv2.destroyAllWindows()"
   ]
  },
  {
   "cell_type": "markdown",
   "id": "2074bf28",
   "metadata": {},
   "source": [
    "## 색상 채널 나누기"
   ]
  },
  {
   "cell_type": "markdown",
   "id": "a67fe0cd",
   "metadata": {},
   "source": [
    "**BGR -> HSV**"
   ]
  },
  {
   "cell_type": "code",
   "execution_count": 19,
   "id": "b088f37a",
   "metadata": {},
   "outputs": [],
   "source": [
    "hsv = cv2.cvtColor(src , cv2.COLOR_BGR2HSV)\n",
    "\n",
    "h,s,v = cv2.split(hsv)\n",
    "\n",
    "cv2.imshow('h', h)\n",
    "cv2.imshow('s', s)\n",
    "cv2.imshow('v', v) \n",
    "cv2.waitKey()\n",
    "cv2.destroyAllWindows()"
   ]
  },
  {
   "cell_type": "markdown",
   "id": "e40c213d",
   "metadata": {},
   "source": [
    "**BGR -> YCRCB**"
   ]
  },
  {
   "cell_type": "code",
   "execution_count": 18,
   "id": "83a46bb3",
   "metadata": {},
   "outputs": [],
   "source": [
    "yCrCb = cv2.cvtColor(src, cv2.COLOR_BGR2YCrCb)\n",
    "\n",
    "y, Cr, Cb = cv2.split(yCrCb)\n",
    "\n",
    "cv2.imshow('src', src) \n",
    "cv2.imshow('y', y) \n",
    "cv2.imshow('Cr', Cr) \n",
    "cv2.imshow('Cb', Cb) \n",
    "\n",
    "\n",
    "cv2.waitKey()\n",
    "cv2.destroyAllWindows()"
   ]
  },
  {
   "cell_type": "code",
   "execution_count": 24,
   "id": "b285b24d",
   "metadata": {},
   "outputs": [],
   "source": [
    "src = cv2.imread('./data/candies.png') \n",
    "\n",
    "b,g,r = cv2.split(src) \n",
    "\n",
    "cv2.imshow('src', src) \n",
    "cv2.imshow('b', b) \n",
    "cv2.imshow('g', g) \n",
    "cv2.imshow('r', r) \n",
    "cv2.waitKey()\n",
    "cv2.destroyAllWindows()"
   ]
  },
  {
   "cell_type": "markdown",
   "id": "4ffa9d4f",
   "metadata": {},
   "source": [
    "# 컬러 영상 처리 기법"
   ]
  },
  {
   "cell_type": "markdown",
   "id": "4953330a",
   "metadata": {},
   "source": [
    "## 컬러 히스토그램 평활화"
   ]
  },
  {
   "cell_type": "code",
   "execution_count": 23,
   "id": "42776bcc",
   "metadata": {},
   "outputs": [],
   "source": [
    "# 명암비를 조정한다는것은 \"밝기\"값하고만 상관이 있음\n",
    "src = cv2.imread(\"./data/pepper.bmp\")\n",
    "src_yCrCb = cv2.cvtColor(src, cv2.COLOR_BGR2YCrCb) # YCrCb : Y(밝기 정보), Cr(붉은색 색상정보), Cb(푸른색 색상정보)\n",
    "\n",
    "y, Cr, Cb = cv2.split(src_yCrCb)\n",
    "\n",
    "y_equalized = cv2.equalizeHist(y) # 밝기 정보만을 담고 있는 y 채널에 대해서만 평활화를 수행\n",
    "\n",
    "dst_yCrCb = cv2.merge([y_equalized, Cr, Cb])\n",
    "\n",
    "dst = cv2.cvtColor(dst_yCrCb, cv2.COLOR_YCrCb2BGR)\n",
    "\n",
    "cv2.imshow(\"src\", src)\n",
    "cv2.imshow(\"dst\", dst)\n",
    "cv2.waitKey()\n",
    "cv2.destroyAllWindows()\n"
   ]
  },
  {
   "cell_type": "markdown",
   "id": "c5faaca8",
   "metadata": {},
   "source": [
    "## 색상 범위 지정에 의한 영역 분할"
   ]
  },
  {
   "attachments": {},
   "cell_type": "markdown",
   "id": "39f715d0",
   "metadata": {},
   "source": [
    "**B, G, R 값의 구간 조정하여 영역 분할**\n",
    "    - B G R 별로 트랙바 만들어서 분할 하기 "
   ]
  },
  {
   "cell_type": "code",
   "execution_count": 42,
   "id": "5e693a0d",
   "metadata": {},
   "outputs": [],
   "source": [
    "def on_level_change(pos) : \n",
    "    lower_b = cv2.getTrackbarPos('lower b' , 'dst')\n",
    "    upper_b = cv2.getTrackbarPos('lower b' , 'dst')\n",
    "    lower_g = cv2.getTrackbarPos('lower g' , 'dst')\n",
    "    upper_g = cv2.getTrackbarPos('lower g' , 'dst')\n",
    "    lower_r = cv2.getTrackbarPos('lower r' , 'dst')\n",
    "    upper_r = cv2.getTrackbarPos('lower r' , 'dst')\n",
    "\n",
    "# cv2.inrange(원본, 하한값, 상한값) : threshold 의 컬러 버전\n",
    "    lower = (lower_b, lower_g, lower_r) \n",
    "    upper = (upper_b, upper_g, upper_r) \n",
    "\n",
    "    dst = cv2.inRange(src , lower, upper) \n",
    "    cv2.imshow('dst', dst) \n",
    "\n",
    "# 원본 read\n",
    "src =cv2.imread('./data/candies.png')\n",
    "\n",
    "# 기본 창 출력\n",
    "cv2.imshow('src' ,src) \n",
    "cv2.imshow('dst',dst)\n",
    "\n",
    "# B G R 별 트랙바 생성\n",
    "cv2.createTrackbar('lower b' , 'dst', 0, 255, on_level_change)\n",
    "cv2.createTrackbar('upper b' , 'dst', 0, 255, on_level_change)\n",
    "\n",
    "cv2.createTrackbar('lower g' , 'dst', 0, 255, on_level_change)\n",
    "cv2.createTrackbar('upper g' , 'dst', 0, 255, on_level_change)\n",
    "\n",
    "cv2.createTrackbar('lower r' , 'dst', 0, 255, on_level_change)\n",
    "cv2.createTrackbar('upper r' , 'dst', 0, 255, on_level_change)\n",
    "\n",
    "\n",
    "\n",
    "cv2.waitKey()\n",
    "cv2.destroyAllWindows()"
   ]
  },
  {
   "cell_type": "markdown",
   "id": "78de27ee",
   "metadata": {},
   "source": [
    "**H, S, V 값의 구간 조정하여 영역 분할**"
   ]
  },
  {
   "cell_type": "code",
   "execution_count": 49,
   "id": "e6b77aac",
   "metadata": {},
   "outputs": [],
   "source": [
    "# 초록색 m&m 만 분할 하기\n",
    "def on_level_change(pos) : \n",
    "    lower_h = cv2.getTrackbarPos('lower h', 'dst')\n",
    "    upper_h = cv2.getTrackbarPos('upper h', 'dst')\n",
    "\n",
    "    lower_s = cv2.getTrackbarPos('lower s', 'dst')\n",
    "    upper_s = cv2.getTrackbarPos('upper s', 'dst')\n",
    "    \n",
    "    lower_v = cv2.getTrackbarPos('lower v', 'dst')\n",
    "    upper_v = cv2.getTrackbarPos('upper v', 'dst') \n",
    "\n",
    "    # 상한 하한 정하기 \n",
    "    lower = (lower_h, lower_s, lower_v) \n",
    "    upper= (upper_h, upper_s, upper_v)\n",
    "\n",
    "    dst = cv2.inRange(hsv, lower, upper) \n",
    "    cv2.imshow('dst', dst) \n",
    "\n",
    "\n",
    "# 원본 read \n",
    "src = cv2.imread('./data/candies.png') \n",
    "\n",
    "# src HSV 색공간으로 변환 \n",
    "hsv = cv2.cvtColor(src, cv2.COLOR_BGR2HSV)\n",
    "\n",
    "\n",
    "# 기본창 출력\n",
    "cv2.imshow('src', src)\n",
    "cv2.imshow('dst', dst) \n",
    "\n",
    "# trackbar H S V \n",
    "cv2.createTrackbar('lower h', 'dst',0, 255, on_level_change)\n",
    "cv2.createTrackbar('upper h' ,'dst', 0, 255, on_level_change)\n",
    "\n",
    "cv2.createTrackbar('lower s', 'dst',0, 255, on_level_change)\n",
    "cv2.createTrackbar('upper s' ,'dst', 0,255, on_level_change)\n",
    "\n",
    "cv2.createTrackbar('lower v', 'dst', 0, 255, on_level_change)\n",
    "cv2.createTrackbar('upper v' ,'dst', 0, 255, on_level_change)\n",
    "\n",
    "\n",
    "# end\n",
    "cv2.waitKey()\n",
    "cv2.destroyAllWindows() "
   ]
  },
  {
   "attachments": {},
   "cell_type": "markdown",
   "id": "b9717dca",
   "metadata": {},
   "source": [
    "## 히스토그램 역투영\n",
    "    - 픽셀값의 빈도수를 역으로 픽셀값으로 잡는거 "
   ]
  },
  {
   "cell_type": "code",
   "execution_count": 51,
   "id": "05a868ca",
   "metadata": {},
   "outputs": [
    {
     "data": {
      "text/plain": [
       "array([[9.],\n",
       "       [3.],\n",
       "       [2.],\n",
       "       [2.]], dtype=float32)"
      ]
     },
     "execution_count": 51,
     "metadata": {},
     "output_type": "execute_result"
    }
   ],
   "source": [
    "src = np.array([[0,0,0,0],\n",
    "                [1,1,3,5],\n",
    "                [6,1,1,3],\n",
    "                [4,3,1,7]] ,dtype= np.uint8)\n",
    "\n",
    "\n",
    "hist = cv2.calcHist(images=[src], channels=[0], mask=None, histSize=[4], ranges=[0, 8])\n",
    "hist"
   ]
  },
  {
   "cell_type": "code",
   "execution_count": 52,
   "id": "0f2bc5d4",
   "metadata": {},
   "outputs": [
    {
     "data": {
      "text/plain": [
       "array([[9, 9, 9, 9],\n",
       "       [9, 9, 3, 2],\n",
       "       [2, 9, 9, 3],\n",
       "       [2, 3, 9, 2]], dtype=uint8)"
      ]
     },
     "execution_count": 52,
     "metadata": {},
     "output_type": "execute_result"
    }
   ],
   "source": [
    "backP= cv2.calcBackProject([src], [0], hist, [0, 8], scale=1)\n",
    "backP"
   ]
  },
  {
   "cell_type": "code",
   "execution_count": 54,
   "id": "c7ed1b5b",
   "metadata": {},
   "outputs": [],
   "source": [
    "ref= cv2.imread('./data/ref.png')\n",
    "mask = cv2.imread('./data/mask.bmp', cv2.IMREAD_GRAYSCALE)\n",
    "src = cv2.imread('./data/kids.png')\n",
    "\n",
    "cv2.imshow('ref', ref)\n",
    "cv2.imshow('mask', mask)\n",
    "cv2.imshow('src', src)\n",
    "\n",
    "cv2.waitKey()\n",
    "cv2.destroyAllWindows()"
   ]
  },
  {
   "cell_type": "markdown",
   "id": "9255fb6e",
   "metadata": {},
   "source": [
    "# 영상의 이진화"
   ]
  },
  {
   "cell_type": "markdown",
   "id": "c1dea018",
   "metadata": {},
   "source": [
    "## 전역 이진화"
   ]
  },
  {
   "cell_type": "code",
   "execution_count": 55,
   "id": "23253773",
   "metadata": {},
   "outputs": [],
   "source": [
    "def on_threshold(pos):\n",
    "    _ , dst = cv2.threshold(src, pos, 255, cv2.THRESH_BINARY)\n",
    "    cv2.imshow(\"dst\", dst)\n",
    "\n",
    "src = cv2.imread('./data/neutrophils.png', cv2.IMREAD_GRAYSCALE)\n",
    "dst = src.copy()\n",
    "\n",
    "cv2.imshow(\"src\", src)\n",
    "cv2.imshow(\"dst\", dst)\n",
    "\n",
    "cv2.createTrackbar(\"threshold\", \"dst\", 0, 255, on_threshold)\n",
    "cv2.setTrackbarPos(\"threshold\", \"dst\", 128)\n",
    "\n",
    "cv2.waitKey()\n",
    "cv2.destroyAllWindows()"
   ]
  },
  {
   "cell_type": "markdown",
   "id": "c0d74fcb",
   "metadata": {},
   "source": [
    "* Otsu 알고리즘에 의한 임계값 사용"
   ]
  },
  {
   "cell_type": "code",
   "execution_count": null,
   "id": "334e6142",
   "metadata": {},
   "outputs": [],
   "source": []
  },
  {
   "cell_type": "markdown",
   "id": "91de7fc6",
   "metadata": {},
   "source": [
    "* Otsu 알고리즘에 의한 임계값 사용 (heart10.jpg)"
   ]
  },
  {
   "cell_type": "code",
   "execution_count": null,
   "id": "d4cec205",
   "metadata": {},
   "outputs": [],
   "source": []
  },
  {
   "cell_type": "markdown",
   "id": "eaf01e51",
   "metadata": {},
   "source": [
    "## 적응형 이진화"
   ]
  },
  {
   "cell_type": "code",
   "execution_count": 71,
   "id": "1471b2e7",
   "metadata": {},
   "outputs": [],
   "source": [
    "\n",
    "def on_tracker(pos) :\n",
    "\n",
    "    b_size = pos\n",
    "    if b_size%2 ==0 :\n",
    "        b_size += 1\n",
    "    if b_size < 3: \n",
    "        b_size =3 \n",
    "    C = 5\n",
    "    dst = cv2.adaptiveThreshold(src , 255,cv2.ADAPTIVE_THRESH_GAUSSIAN_C, cv2.THRESH_BINARY, b_size, C) \n",
    "    cv2.imshow('dst', dst) \n",
    "\n",
    "src =cv2.imread('./data/sudoku.jpg', cv2.IMREAD_GRAYSCALE)\n",
    "\n",
    "cv2.imshow('src',src) \n",
    "cv2.imshow('dst', dst) \n",
    "\n",
    "cv2.createTrackbar('block size', 'dst', 0, 200, on_tracker)\n",
    "cv2.setTrackbarPos('block size', 'dst', 11) \n",
    "\n",
    "cv2.waitKey()\n",
    "cv2.destroyAllWindows() "
   ]
  },
  {
   "cell_type": "code",
   "execution_count": null,
   "id": "4b02a927",
   "metadata": {},
   "outputs": [],
   "source": []
  }
 ],
 "metadata": {
  "kernelspec": {
   "display_name": "Python 3",
   "language": "python",
   "name": "python3"
  },
  "language_info": {
   "codemirror_mode": {
    "name": "ipython",
    "version": 3
   },
   "file_extension": ".py",
   "mimetype": "text/x-python",
   "name": "python",
   "nbconvert_exporter": "python",
   "pygments_lexer": "ipython3",
   "version": "3.11.0"
  },
  "vscode": {
   "interpreter": {
    "hash": "c261aea317cc0286b3b3261fbba9abdec21eaa57589985bb7a274bf54d6cc0a7"
   }
  }
 },
 "nbformat": 4,
 "nbformat_minor": 5
}
